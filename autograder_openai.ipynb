{
 "cells": [
  {
   "cell_type": "code",
   "execution_count": null,
   "id": "cc64de88",
   "metadata": {},
   "outputs": [],
   "source": [
    "import os\n",
    "import base64\n",
    "import json\n",
    "from dotenv import load_dotenv\n",
    "import openai"
   ]
  },
  {
   "cell_type": "code",
   "execution_count": null,
   "id": "e2e9391e",
   "metadata": {},
   "outputs": [],
   "source": [
    "load_dotenv()\n",
    "openai.api_key = os.getenv('OPENAI_API_KEY')"
   ]
  },
  {
   "cell_type": "code",
   "execution_count": null,
   "id": "0928def3",
   "metadata": {},
   "outputs": [],
   "source": [
    "def evaluate_text_with_openai(system_prompt: str, user_prompt: str, model: str='gpt-4o') -> str:\n",
    "    \"\"\"Evaluates text using OpenAI ChatCompletion.\"\"\"\n",
    "    messages = [\n",
    "        {'role': 'system', 'content': system_prompt},\n",
    "        {'role': 'user', 'content': user_prompt}\n",
    "    ]\n",
    "    response = openai.ChatCompletion.create(model=model, messages=messages)\n",
    "    return response.choices[0].message.content"
   ]
  },
  {
   "cell_type": "code",
   "execution_count": null,
   "id": "c1e1b48a",
   "metadata": {},
   "outputs": [],
   "source": [
    "def evaluate_images_with_openai(system_prompt: str, image_paths: list, user_prompt: str='', model: str='gpt-4o') -> str:\n",
    "    \"\"\"Evaluates images using OpenAI ChatCompletion with base64-encoded image URLs.\"\"\"\n",
    "    messages = [{'role': 'system', 'content': system_prompt}]\n",
    "    for path in image_paths:\n",
    "        with open(path, 'rb') as f:\n",
    "            img_b64 = base64.b64encode(f.read()).decode('utf-8')\n",
    "        # Embed as base64 image_url\n",
    "        messages.append({'role': 'user', 'image_url': f\"data:image/png;base64,{img_b64}\"})\n",
    "    if user_prompt:\n",
    "        messages.append({'role': 'user', 'content': user_prompt})\n",
    "    response = openai.ChatCompletion.create(model=model, messages=messages)\n",
    "    return response.choices[0].message.content"
   ]
  },
  {
   "cell_type": "code",
   "execution_count": null,
   "id": "1cecb1db",
   "metadata": {},
   "outputs": [],
   "source": [
    "def run_autograder_full(submission_text: str, image_paths: list):\n",
    "    \"\"\"Runs full autograder on text and images.\"\"\"\n",
    "    system_prompt = \"\"\"You are an autograder. Evaluate the following submission based on the provided rubric. Provide structured feedback.\"\"\"\n",
    "    # Evaluate text\n",
    "    text_feedback = evaluate_text_with_openai(system_prompt, submission_text)\n",
    "    # Evaluate images\n",
    "    image_feedback = evaluate_images_with_openai(system_prompt, image_paths, 'Evaluate the images based on the same rubric.')\n",
    "    return {'text_feedback': text_feedback, 'image_feedback': image_feedback}"
   ]
  }
 ],
 "metadata": {},
 "nbformat": 4,
 "nbformat_minor": 5
}
